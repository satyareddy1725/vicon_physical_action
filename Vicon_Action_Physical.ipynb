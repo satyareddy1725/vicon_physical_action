{
  "cells": [
    {
      "cell_type": "code",
      "execution_count": null,
      "metadata": {
        "colab": {
          "base_uri": "https://localhost:8080/"
        },
        "id": "B1HtIvD-g8Ec",
        "outputId": "93f7be08-62f9-4b63-cdf3-cf2088b8fa36"
      },
      "outputs": [
        {
          "output_type": "stream",
          "name": "stdout",
          "text": [
            "---------aggressive------------\n",
            "Slapping\n",
            "(4223, 27)\n",
            "Pushing\n",
            "(3413, 27)\n",
            "Pulling\n",
            "(4235, 27)\n",
            "Headering\n",
            "(4013, 27)\n",
            "Frontkicking\n",
            "(3324, 27)\n",
            "Sidekicking\n",
            "(4193, 27)\n",
            "Punching\n",
            "(3419, 27)\n",
            "Kneeing\n",
            "(2977, 27)\n",
            "Hamering\n",
            "(3574, 27)\n",
            "Elbowing\n",
            "(2804, 27)\n",
            "---------normal------------\n",
            "Standing\n",
            "(4106, 27)\n",
            "Running\n",
            "(3032, 27)\n",
            "Hugging\n",
            "(4103, 27)\n",
            "Clapping\n",
            "(3045, 27)\n",
            "Walking\n",
            "(3087, 27)\n",
            "Seating\n",
            "(3763, 27)\n",
            "Jumping\n",
            "(2946, 27)\n",
            "Handshaking\n",
            "(3078, 27)\n",
            "Bowing\n",
            "(3751, 27)\n",
            "Waving\n",
            "(6416, 27)\n",
            "---------normal------------\n",
            "Hugging\n",
            "(4335, 27)\n",
            "Standing\n",
            "(3838, 27)\n",
            "Seating\n",
            "(4244, 27)\n",
            "Walking\n",
            "(6373, 27)\n",
            "Running\n",
            "(4269, 27)\n",
            "Jumping\n",
            "(4054, 27)\n",
            "Bowing\n",
            "(4272, 27)\n",
            "Handshaking\n",
            "(4197, 27)\n",
            "Waving\n",
            "(4305, 27)\n",
            "Clapping\n",
            "(3952, 27)\n",
            "---------aggressive------------\n",
            "Headering\n",
            "(3706, 27)\n",
            "Slapping\n",
            "(6519, 27)\n",
            "Punching\n",
            "(4232, 27)\n",
            "Hamering\n",
            "(6242, 27)\n",
            "Frontkicking\n",
            "(4146, 27)\n",
            "Sidekicking\n",
            "(4174, 27)\n",
            "Elbowing\n",
            "(4119, 27)\n",
            "Kneeing\n",
            "(5516, 27)\n",
            "Pushing\n",
            "(4260, 27)\n",
            "Pulling\n",
            "(6399, 27)\n",
            "---------normal------------\n",
            "Walking\n",
            "(1685, 27)\n",
            "Seating\n",
            "(2325, 27)\n",
            "Jumping\n",
            "(1099, 27)\n",
            "Handshaking\n",
            "(1829, 27)\n",
            "Bowing\n",
            "(1842, 27)\n",
            "Waving\n",
            "(1963, 27)\n",
            "Standing\n",
            "(2352, 27)\n",
            "Running\n",
            "(2287, 27)\n",
            "Hugging\n",
            "(2010, 27)\n",
            "Clapping\n",
            "(1983, 27)\n",
            "---------aggressive------------\n",
            "Sidekicking\n",
            "(2271, 27)\n",
            "Punching\n",
            "(2099, 27)\n",
            "Kneeing\n",
            "(1892, 27)\n",
            "Hamering\n",
            "(1465, 27)\n",
            "Elbowing\n",
            "(2012, 27)\n",
            "Slapping\n",
            "(1714, 27)\n",
            "Pushing\n",
            "(1483, 27)\n",
            "Pulling\n",
            "(2348, 27)\n",
            "Headering\n",
            "(2473, 27)\n",
            "Frontkicking\n",
            "(1675, 27)\n",
            "---------normal------------\n",
            "Clapping\n",
            "(1715, 27)\n",
            "Hugging\n",
            "(1972, 27)\n",
            "Running\n",
            "(2241, 27)\n",
            "Standing\n",
            "(2101, 27)\n",
            "Waving\n",
            "(971, 27)\n",
            "Bowing\n",
            "(2013, 27)\n",
            "Handshaking\n",
            "(2558, 27)\n",
            "Jumping\n",
            "(1906, 27)\n",
            "Seating\n",
            "(2273, 27)\n",
            "Walking\n",
            "(1720, 27)\n",
            "---------aggressive------------\n",
            "Frontkicking\n",
            "(2091, 27)\n",
            "Headering\n",
            "(1510, 27)\n",
            "Pulling\n",
            "(1872, 27)\n",
            "Pushing\n",
            "(2095, 27)\n",
            "Slapping\n",
            "(2136, 27)\n",
            "Sidekicking\n",
            "(1444, 27)\n",
            "Punching\n",
            "(2485, 27)\n",
            "Kneeing\n",
            "(2460, 27)\n",
            "Hamering\n",
            "(1901, 27)\n",
            "Elbowing\n",
            "(2396, 27)\n",
            "---------aggressive------------\n",
            "Slapping\n",
            "(2462, 27)\n",
            "Pushing\n",
            "(1639, 27)\n",
            "Pulling\n",
            "(1788, 27)\n",
            "Headering\n",
            "(1956, 27)\n",
            "Frontkicking\n",
            "(2133, 27)\n",
            "Sidekicking\n",
            "(2425, 27)\n",
            "Punching\n",
            "(1858, 27)\n",
            "Kneeing\n",
            "(2471, 27)\n",
            "Hamering\n",
            "(1933, 27)\n",
            "Elbowing\n",
            "(2093, 27)\n",
            "---------normal------------\n",
            "Walking\n",
            "(1555, 27)\n",
            "Seating\n",
            "(2096, 27)\n",
            "Running\n",
            "(2338, 27)\n",
            "Hugging\n",
            "(2019, 27)\n",
            "Clapping\n",
            "(1822, 27)\n",
            "Standing\n",
            "(2463, 27)\n",
            "Running  [worse]\n",
            "(2093, 27)\n",
            "Jumping\n",
            "(2030, 27)\n",
            "Handshaking\n",
            "(1591, 27)\n",
            "Bowing\n",
            "(1943, 27)\n",
            "---------normal------------\n",
            "Hugging\n",
            "(6607, 27)\n",
            "Standing\n",
            "(3806, 27)\n",
            "Seating\n",
            "(6779, 27)\n",
            "Walking\n",
            "(4426, 27)\n",
            "Running\n",
            "(4299, 27)\n",
            "Jumping\n",
            "(4215, 27)\n",
            "Bowing\n",
            "(4505, 27)\n",
            "Handshaking\n",
            "(4433, 27)\n",
            "Waving\n",
            "(4048, 27)\n",
            "Clapping\n",
            "(4441, 27)\n",
            "---------aggressive------------\n",
            "Headering\n",
            "(6541, 27)\n",
            "Slapping\n",
            "(4293, 27)\n",
            "Punching\n",
            "(4380, 27)\n",
            "Hamering\n",
            "(6362, 27)\n",
            "Frontkicking\n",
            "(4122, 27)\n",
            "Sidekicking\n",
            "(4201, 27)\n",
            "Elbowing\n",
            "(4477, 27)\n",
            "Kneeing\n",
            "(3182, 27)\n",
            "Pushing\n",
            "(4288, 27)\n",
            "Pulling\n",
            "(4484, 27)\n",
            "---------normal------------\n",
            "Waving\n",
            "(2769, 27)\n",
            "Standing\n",
            "(3162, 27)\n",
            "Running\n",
            "(1534, 27)\n",
            "Hugging\n",
            "(3307, 27)\n",
            "Clapping\n",
            "(3609, 27)\n",
            "Walking\n",
            "(2005, 27)\n",
            "Seating\n",
            "(3021, 27)\n",
            "Jumping\n",
            "(2957, 27)\n",
            "Handshaking\n",
            "(3029, 27)\n",
            "Bowing\n",
            "(3673, 27)\n",
            "---------aggressive------------\n",
            "Sidekicking\n",
            "(2335, 27)\n",
            "Punching\n",
            "(3557, 27)\n",
            "Kneeing\n",
            "(3513, 27)\n",
            "Hamering\n",
            "(3926, 27)\n",
            "Elbowing\n",
            "(3532, 27)\n",
            "Slapping\n",
            "(3522, 27)\n",
            "Pushing\n",
            "(3126, 27)\n",
            "Pulling\n",
            "(3622, 27)\n",
            "Headering\n",
            "(3832, 27)\n",
            "Frontkicking\n",
            "(3314, 27)\n",
            "---------aggressive------------\n",
            "Slapping\n",
            "(2155, 27)\n",
            "Pushing\n",
            "(1681, 27)\n",
            "Pulling\n",
            "(1142, 27)\n",
            "Headering\n",
            "(2115, 27)\n",
            "Frontkicking\n",
            "(1474, 27)\n",
            "Sidekicking\n",
            "(792, 27)\n",
            "Punching\n",
            "(1807, 27)\n",
            "Kneeing\n",
            "(1622, 27)\n",
            "Hamering\n",
            "(782, 27)\n",
            "Elbowing\n",
            "(1510, 27)\n",
            "---------normal------------\n",
            "Waving\n",
            "(2198, 27)\n",
            "Standing\n",
            "(2176, 27)\n",
            "Running\n",
            "(1632, 27)\n",
            "Hugging\n",
            "(2189, 27)\n",
            "Clapping\n",
            "(1928, 27)\n",
            "Walking\n",
            "(2302, 27)\n",
            "Seating\n",
            "(2337, 27)\n",
            "Jumping\n",
            "(1671, 27)\n",
            "Handshaking\n",
            "(2000, 27)\n",
            "Bowing\n",
            "(1590, 27)\n",
            "---------aggressive------------\n",
            "Headering\n",
            "(3695, 27)\n",
            "Slapping\n",
            "(6255, 27)\n",
            "Punching\n",
            "(4757, 27)\n",
            "Hamering\n",
            "(4138, 27)\n",
            "Frontkicking\n",
            "(4365, 27)\n",
            "Sidekicking\n",
            "(3689, 27)\n",
            "Elbowing\n",
            "(3649, 27)\n",
            "Kneeing\n",
            "(5972, 27)\n",
            "Pushing\n",
            "(2831, 27)\n",
            "Pulling\n",
            "(3595, 27)\n",
            "---------normal------------\n",
            "Standing\n",
            "(4215, 27)\n",
            "Seating\n",
            "(6273, 27)\n",
            "Walking\n",
            "(5949, 27)\n",
            "Running\n",
            "(4154, 27)\n",
            "Jumping\n",
            "(4142, 27)\n",
            "Bowing\n",
            "(4155, 27)\n",
            "Hugging\n",
            "(4763, 27)\n",
            "Handshaking\n",
            "(4179, 27)\n",
            "Waving\n",
            "(4035, 27)\n",
            "Clapping\n",
            "(4733, 27)\n",
            "---------aggressive------------\n",
            "Slapping\n",
            "(1954, 27)\n",
            "Pushing\n",
            "(1508, 27)\n",
            "Pulling\n",
            "(1988, 27)\n",
            "Headering\n",
            "(1885, 27)\n",
            "Frontkicking\n",
            "(1925, 27)\n",
            "Sidekicking\n",
            "(1986, 27)\n",
            "Punching\n",
            "(2167, 27)\n",
            "Kneeing\n",
            "(1793, 27)\n",
            "Hamering\n",
            "(1893, 27)\n",
            "Elbowing\n",
            "(1691, 27)\n",
            "---------normal------------\n",
            "Waving\n",
            "(2193, 27)\n",
            "Standing\n",
            "(1999, 27)\n",
            "Running\n",
            "(1059, 27)\n",
            "Hugging\n",
            "(1624, 27)\n",
            "Clapping\n",
            "(2066, 27)\n",
            "Walking\n",
            "(1645, 27)\n",
            "Seating\n",
            "(1888, 27)\n",
            "Jumping\n",
            "(2285, 27)\n",
            "Handshaking\n",
            "(1778, 27)\n",
            "Bowing\n",
            "(1944, 27)\n"
          ]
        }
      ],
      "source": [
        "import pandas as pd\n",
        "import numpy as np\n",
        "import os\n",
        "\n",
        "path_data='/content/drive/MyDrive/data'\n",
        "lbl_binary=list()\n",
        "lbl_20_class=list()\n",
        "data=[]\n",
        "for folder in os.listdir(path_data):\n",
        "    path_in=os.path.join(path_data,folder)\n",
        "    if not os.path.isdir(path_in):\n",
        "        continue  \n",
        "    for sub_folder in os.listdir(path_in):\n",
        "        \n",
        "        print('---------{0}------------'.format(sub_folder))\n",
        "        path_in2=os.path.join(path_in,sub_folder)\n",
        "        if not os.path.isdir(path_in2): \n",
        "            continue  \n",
        "        for file_name in os.listdir(path_in2):\n",
        "            lbl_one=file_name[:-4]\n",
        "            print(file_name[:-4])\n",
        "            path_file=os.path.join(path_in2,file_name)\n",
        "            txt_data=np.array(pd.read_csv(path_file, delim_whitespace=True))\n",
        "            txt_data=txt_data[:,1:]\n",
        "            data.extend(txt_data)\n",
        "            lbl_all=((lbl_one+',')*txt_data.shape[0]).split(',')[:-1]\n",
        "            lbl_20_class.extend(lbl_all)\n",
        "            print(txt_data.shape)\n"
      ]
    },
    {
      "cell_type": "markdown",
      "metadata": {
        "id": "Ey0VSDlizPuU"
      },
      "source": [
        "# PreProcessing"
      ]
    },
    {
      "cell_type": "code",
      "execution_count": null,
      "metadata": {
        "colab": {
          "base_uri": "https://localhost:8080/"
        },
        "id": "NX3fhNFck9yW",
        "outputId": "7ce9c7d8-a2a6-4753-8343-a81cf9a2488f"
      },
      "outputs": [
        {
          "output_type": "stream",
          "name": "stderr",
          "text": [
            "/usr/local/lib/python3.9/dist-packages/sklearn/preprocessing/_label.py:116: DataConversionWarning: A column-vector y was passed when a 1d array was expected. Please change the shape of y to (n_samples, ), for example using ravel().\n",
            "  y = column_or_1d(y, warn=True)\n"
          ]
        },
        {
          "output_type": "stream",
          "name": "stdout",
          "text": [
            "[17 17 17 ...  0  0  0]\n"
          ]
        }
      ],
      "source": [
        "from sklearn.preprocessing import LabelEncoder\n",
        "from sklearn.preprocessing import StandardScaler\n",
        "import numpy as np\n",
        "\n",
        "\n",
        "encoder = LabelEncoder()\n",
        "lbl_20_class = np.array(lbl_20_class)\n",
        "lbl_20_class = encoder.fit_transform(lbl_20_class.reshape(-1, 1))\n",
        "\n",
        "\n",
        "scaler = StandardScaler()\n",
        "data = scaler.fit_transform(data)\n",
        "\n",
        "print(lbl_20_class)"
      ]
    },
    {
      "cell_type": "markdown",
      "metadata": {
        "id": "RaS9Gne7zkBe"
      },
      "source": [
        "# Normalization"
      ]
    },
    {
      "cell_type": "code",
      "execution_count": null,
      "metadata": {
        "colab": {
          "base_uri": "https://localhost:8080/"
        },
        "id": "ukYrcTTcmX4Y",
        "outputId": "e3dff1cb-4344-49cb-e9d4-f05f904e2366"
      },
      "outputs": [
        {
          "output_type": "stream",
          "name": "stdout",
          "text": [
            "[[0.59446825 0.58998753 0.79865844 ... 0.58200663 0.6679986  0.09719377]\n",
            " [0.59446825 0.58998753 0.79865844 ... 0.58200663 0.6679986  0.09719377]\n",
            " [0.59446825 0.58998753 0.79865844 ... 0.58200663 0.6679986  0.09719377]\n",
            " ...\n",
            " [0.40051119 0.52083641 0.69157292 ... 0.31301366 0.60202672 0.23764979]\n",
            " [0.40051119 0.52083641 0.69157292 ... 0.310808   0.60224366 0.23757155]\n",
            " [0.40051119 0.52083641 0.69157292 ... 0.310808   0.60224366 0.23757155]]\n"
          ]
        }
      ],
      "source": [
        "from sklearn.preprocessing import MinMaxScaler\n",
        "import numpy as np\n",
        "\n",
        "data = np.array(data)\n",
        "scaler = MinMaxScaler()\n",
        "normalized_data = scaler.fit_transform(data)\n",
        "print(normalized_data)"
      ]
    },
    {
      "cell_type": "markdown",
      "metadata": {
        "id": "9YGOdHcQzsHa"
      },
      "source": [
        "# Decision Tree"
      ]
    },
    {
      "cell_type": "code",
      "execution_count": null,
      "metadata": {
        "colab": {
          "base_uri": "https://localhost:8080/"
        },
        "id": "ibtyY7LbtSpm",
        "outputId": "dd8a33b1-7ad6-4373-dbeb-4500be4698e7"
      },
      "outputs": [
        {
          "output_type": "stream",
          "name": "stdout",
          "text": [
            "R-squared score: 0.9986516026708403\n"
          ]
        }
      ],
      "source": [
        "from sklearn.tree import DecisionTreeRegressor\n",
        "from sklearn.metrics import r2_score\n",
        "\n",
        "Data_main = np.array(data)\n",
        "Data_lable = np.array(lbl_20_class)\n",
        "\n",
        "\n",
        "\n",
        "from sklearn.model_selection import train_test_split\n",
        "X_train, X_test, y_train, y_test = train_test_split(Data_main, Data_lable, test_size=0.2, random_state=42)\n",
        "\n",
        "\n",
        "dtreg = DecisionTreeRegressor(random_state=42)\n",
        "dtreg.fit(X_train, y_train)\n",
        "\n",
        "\n",
        "y_pred = dtreg.predict(X_test)\n",
        "print(\"R-squared score:\", r2_score(y_test, y_pred))"
      ]
    },
    {
      "cell_type": "markdown",
      "metadata": {
        "id": "O1OiJOCc0EET"
      },
      "source": [
        "# Naive Bayes"
      ]
    },
    {
      "cell_type": "code",
      "execution_count": null,
      "metadata": {
        "id": "vkWPenEkvYRw",
        "colab": {
          "base_uri": "https://localhost:8080/"
        },
        "outputId": "38b20330-97ab-4f3a-a37c-3c98ae7f1039"
      },
      "outputs": [
        {
          "output_type": "stream",
          "name": "stdout",
          "text": [
            "Accuracy: 0.4135347042639854\n"
          ]
        }
      ],
      "source": [
        "from sklearn.naive_bayes import GaussianNB\n",
        "from sklearn.model_selection import train_test_split\n",
        "from sklearn.metrics import accuracy_score\n",
        "\n",
        "\n",
        "X_train, X_test, y_train, y_test = train_test_split(Data_main, Data_lable, test_size=0.2, random_state=42)\n",
        "\n",
        "\n",
        "nb = GaussianNB()\n",
        "nb.fit(X_train, y_train)\n",
        "\n",
        "\n",
        "y_pred = nb.predict(X_test)\n",
        "accuracy = accuracy_score(y_test, y_pred)\n",
        "\n",
        "print(\"Accuracy:\", accuracy)"
      ]
    },
    {
      "cell_type": "markdown",
      "metadata": {
        "id": "Iss9L34W0hgH"
      },
      "source": [
        "# Logical Regression"
      ]
    },
    {
      "cell_type": "code",
      "execution_count": null,
      "metadata": {
        "id": "1_nh0utLyuYz",
        "colab": {
          "base_uri": "https://localhost:8080/"
        },
        "outputId": "97e0d175-dbac-4072-9026-4b35398d007a"
      },
      "outputs": [
        {
          "output_type": "stream",
          "name": "stdout",
          "text": [
            "R-squared score: 0.13673811329393648\n"
          ]
        }
      ],
      "source": [
        "from sklearn.linear_model import LinearRegression\n",
        "\n",
        "\n",
        "from sklearn.model_selection import train_test_split\n",
        "X_train, X_test, y_train, y_test = train_test_split(Data_main, Data_lable, test_size=0.2, random_state=42)\n",
        "\n",
        "linreg = LinearRegression()\n",
        "linreg.fit(X_train, y_train)\n",
        "\n",
        "\n",
        "y_pred = linreg.predict(X_test)\n",
        "from sklearn.metrics import r2_score\n",
        "print(\"R-squared score:\", r2_score(y_test, y_pred))\n"
      ]
    },
    {
      "cell_type": "markdown",
      "source": [
        "# HyperParameter Tuning On DT\n"
      ],
      "metadata": {
        "id": "b3l_IDgiyeZQ"
      }
    },
    {
      "cell_type": "code",
      "source": [
        "from sklearn.model_selection import RandomizedSearchCV\n",
        "from scipy.stats import randint\n",
        "\n",
        "\n",
        "param_dist = {'max_depth': randint(2, 10),\n",
        "              'min_samples_split': randint(2, 10),\n",
        "              'min_samples_leaf': randint(1, 8),\n",
        "              'max_features': [None, 'sqrt', 'log2']}\n",
        "\n",
        "dtreg = DecisionTreeRegressor(random_state=42)\n",
        "\n",
        "\n",
        "random_dtreg = RandomizedSearchCV(estimator=dtreg, param_distributions=param_dist, n_iter=50, cv=3, random_state=42, scoring='r2')\n",
        "\n",
        "\n",
        "random_dtreg.fit(X_train, y_train)\n",
        "\n",
        "print(\"Best hyperparameters:\", random_dtreg.best_params_)\n",
        "print(\"Best score:\", random_dtreg.best_score_)\n",
        "\n",
        "\n",
        "y_pred = random_dtreg.predict(X_test)\n",
        "\n",
        "\n",
        "print(\"R-squared score:\", r2_score(y_test, y_pred))\n"
      ],
      "metadata": {
        "colab": {
          "base_uri": "https://localhost:8080/"
        },
        "id": "djsZ5O1J2_fn",
        "outputId": "bc423ed7-ae16-4c56-87c7-a47d0bd48aba"
      },
      "execution_count": null,
      "outputs": [
        {
          "output_type": "stream",
          "name": "stdout",
          "text": [
            "Best hyperparameters: {'max_depth': 9, 'max_features': None, 'min_samples_leaf': 1, 'min_samples_split': 5}\n",
            "Best score: 0.6501079870858814\n",
            "R-squared score: 0.6741600701422303\n"
          ]
        }
      ]
    },
    {
      "cell_type": "markdown",
      "source": [
        "# HyperParameter Tuning On Lr"
      ],
      "metadata": {
        "id": "xVkXB93xz8u2"
      }
    },
    {
      "cell_type": "code",
      "source": [
        "from sklearn.model_selection import GridSearchCV\n",
        "from sklearn.linear_model import LinearRegression\n",
        "\n",
        "\n",
        "linreg = LinearRegression()\n",
        "\n",
        "param_grid = {\n",
        "    \"fit_intercept\": [True, False],\n",
        "    \"copy_X\": [True, False],\n",
        "    \"positive\": [True, False],\n",
        "    \"n_jobs\": [-1, None],\n",
        "}\n",
        "\n",
        "grid_search = GridSearchCV(linreg, param_grid, cv=5)\n",
        "\n",
        "grid_search.fit(X_train, y_train)\n",
        "\n",
        "best_linreg = grid_search.best_estimator_\n",
        "y_pred = best_linreg.predict(X_test)\n",
        "from sklearn.metrics import r2_score\n",
        "print(\"R-squared score:\", r2_score(y_test, y_pred))\n"
      ],
      "metadata": {
        "colab": {
          "base_uri": "https://localhost:8080/"
        },
        "id": "da3iJxnY8qnT",
        "outputId": "e8d2e204-753e-4a94-f9f5-06f29d9791e7"
      },
      "execution_count": null,
      "outputs": [
        {
          "output_type": "stream",
          "name": "stdout",
          "text": [
            "R-squared score: 0.13673811329393648\n"
          ]
        }
      ]
    }
  ],
  "metadata": {
    "colab": {
      "provenance": []
    },
    "kernelspec": {
      "display_name": "Python 3",
      "name": "python3"
    },
    "language_info": {
      "name": "python"
    }
  },
  "nbformat": 4,
  "nbformat_minor": 0
}